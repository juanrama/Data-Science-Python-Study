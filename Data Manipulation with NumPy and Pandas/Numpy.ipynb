{
 "cells": [
  {
   "cell_type": "markdown",
   "id": "48d4fe4a",
   "metadata": {},
   "source": [
    "NUMPY TUTORIAL"
   ]
  },
  {
   "cell_type": "code",
   "execution_count": 1,
   "id": "193109b0",
   "metadata": {},
   "outputs": [],
   "source": [
    "import numpy as np"
   ]
  },
  {
   "cell_type": "markdown",
   "id": "f443bcd5",
   "metadata": {},
   "source": [
    "### BASIC"
   ]
  },
  {
   "cell_type": "code",
   "execution_count": 7,
   "id": "e34ef536",
   "metadata": {},
   "outputs": [],
   "source": [
    "a = [1, 2, 3, 4, 5]\n",
    "b = [2, 3, 4, 5, 6]"
   ]
  },
  {
   "cell_type": "code",
   "execution_count": 40,
   "id": "e32e348e",
   "metadata": {},
   "outputs": [
    {
     "ename": "TypeError",
     "evalue": "can't multiply sequence by non-int of type 'list'",
     "output_type": "error",
     "traceback": [
      "\u001b[1;31m---------------------------------------------------------------------------\u001b[0m",
      "\u001b[1;31mTypeError\u001b[0m                                 Traceback (most recent call last)",
      "Cell \u001b[1;32mIn[40], line 1\u001b[0m\n\u001b[1;32m----> 1\u001b[0m \u001b[43ma\u001b[49m\u001b[43m \u001b[49m\u001b[38;5;241;43m*\u001b[39;49m\u001b[43m \u001b[49m\u001b[43mb\u001b[49m\n",
      "\u001b[1;31mTypeError\u001b[0m: can't multiply sequence by non-int of type 'list'"
     ]
    }
   ],
   "source": [
    "#list tidak bisa dikalikan, solusi = menggunakan numpy\n",
    "a * b"
   ]
  },
  {
   "cell_type": "code",
   "execution_count": 37,
   "id": "0787d5f5",
   "metadata": {},
   "outputs": [
    {
     "data": {
      "text/plain": [
       "dtype('int16')"
      ]
     },
     "execution_count": 37,
     "metadata": {},
     "output_type": "execute_result"
    }
   ],
   "source": [
    "#mencari tipe data\n",
    "x = np.array([[1, 2, 3, 4, 5], [1, 3, 4, 6, 7]], dtype = 'int16')\n",
    "y = np.array([2, 3, 4 ,5, 6], dtype = 'int16')\n",
    "\n",
    "z = x * y\n",
    "\n",
    "z.dtype"
   ]
  },
  {
   "cell_type": "code",
   "execution_count": 33,
   "id": "2e007e16",
   "metadata": {},
   "outputs": [
    {
     "data": {
      "text/plain": [
       "dtype('int32')"
      ]
     },
     "execution_count": 33,
     "metadata": {},
     "output_type": "execute_result"
    }
   ],
   "source": [
    "#jika datatype berbeda maka hasil akhir akan default\n",
    "x = np.array([[1, 2, 3, 4, 5], [1, 3, 4, 6, 7]], dtype = 'int16')\n",
    "y = np.array([2, 3, 4 ,5, 6], dtype = 'int32')\n",
    "\n",
    "z = x * y\n",
    "\n",
    "z.dtype"
   ]
  },
  {
   "cell_type": "code",
   "execution_count": 55,
   "id": "2969bed7",
   "metadata": {},
   "outputs": [
    {
     "data": {
      "text/plain": [
       "dtype('float64')"
      ]
     },
     "execution_count": 55,
     "metadata": {},
     "output_type": "execute_result"
    }
   ],
   "source": [
    "#default datatype = int32 (int), float64 (float)\n",
    "x = np.array([[1, 2, 3, 4, 5], [1, 3, 4, 6, 7]])\n",
    "y = np.array([2.0, 3.0, 4.0 ,5.0, 6.0])\n",
    "\n",
    "z = x * y\n",
    "\n",
    "y.dtype"
   ]
  },
  {
   "cell_type": "code",
   "execution_count": 57,
   "id": "225d8571",
   "metadata": {},
   "outputs": [
    {
     "data": {
      "text/plain": [
       "8"
      ]
     },
     "execution_count": 57,
     "metadata": {},
     "output_type": "execute_result"
    }
   ],
   "source": [
    "#mencari ukuran dari array\n",
    "y.itemsize"
   ]
  },
  {
   "cell_type": "code",
   "execution_count": 58,
   "id": "fdb22392",
   "metadata": {},
   "outputs": [
    {
     "data": {
      "text/plain": [
       "80"
      ]
     },
     "execution_count": 58,
     "metadata": {},
     "output_type": "execute_result"
    }
   ],
   "source": [
    "#mencari total ukuran dari array\n",
    "z.nbytes"
   ]
  },
  {
   "cell_type": "code",
   "execution_count": 60,
   "id": "e26ead84",
   "metadata": {},
   "outputs": [
    {
     "data": {
      "text/plain": [
       "(2, 5)"
      ]
     },
     "execution_count": 60,
     "metadata": {},
     "output_type": "execute_result"
    }
   ],
   "source": [
    "#bentuk array\n",
    "z.shape"
   ]
  },
  {
   "cell_type": "markdown",
   "id": "2251d544",
   "metadata": {},
   "source": [
    "### MENGAKSES/MENGUBAH ELEMENT, BARIS, KOLOM, DLL"
   ]
  },
  {
   "cell_type": "code",
   "execution_count": 164,
   "id": "fea0b845",
   "metadata": {},
   "outputs": [],
   "source": [
    "a = np.array([[1, 2, 3, 4, 5],\n",
    "              [3, 4, 5, 6, 7]])\n",
    "b = np.array([[2, 3, 4, 5, 6],\n",
    "              [3, 4, 5, 6, 7]])"
   ]
  },
  {
   "cell_type": "code",
   "execution_count": 63,
   "id": "cb98e034",
   "metadata": {},
   "outputs": [
    {
     "data": {
      "text/plain": [
       "array([3, 4, 5, 6, 7])"
      ]
     },
     "execution_count": 63,
     "metadata": {},
     "output_type": "execute_result"
    }
   ],
   "source": [
    "#get a specific row\n",
    "a[1, :]"
   ]
  },
  {
   "cell_type": "code",
   "execution_count": 65,
   "id": "598aac78",
   "metadata": {},
   "outputs": [
    {
     "data": {
      "text/plain": [
       "array([1, 3])"
      ]
     },
     "execution_count": 65,
     "metadata": {},
     "output_type": "execute_result"
    }
   ],
   "source": [
    "#get a specific collumn\n",
    "a[:, 0]"
   ]
  },
  {
   "cell_type": "code",
   "execution_count": 83,
   "id": "f9570f17",
   "metadata": {},
   "outputs": [
    {
     "data": {
      "text/plain": [
       "array([2, 3, 4, 5, 6])"
      ]
     },
     "execution_count": 83,
     "metadata": {},
     "output_type": "execute_result"
    }
   ],
   "source": [
    "#[startindex:stopindex:step]\n",
    "b[0, 0:]"
   ]
  },
  {
   "cell_type": "code",
   "execution_count": 89,
   "id": "8d7e2116",
   "metadata": {},
   "outputs": [
    {
     "name": "stdout",
     "output_type": "stream",
     "text": [
      "[[ 1  1 27  4  5]\n",
      " [ 3  9  5  6  7]]\n"
     ]
    }
   ],
   "source": [
    "#Ubah element\n",
    "a[0,2] = 27\n",
    "\n",
    "a[:, 1] = [1, 9]\n",
    "\n",
    "print(a)"
   ]
  },
  {
   "cell_type": "code",
   "execution_count": 144,
   "id": "369ee8ce",
   "metadata": {},
   "outputs": [],
   "source": [
    "#ARRAY 3D\n",
    "b = np.array([[[1,2], \n",
    "      [2,3]], \n",
    "      [[3,4],\n",
    "      [5,6]]])"
   ]
  },
  {
   "cell_type": "code",
   "execution_count": 108,
   "id": "1d6ab883",
   "metadata": {},
   "outputs": [
    {
     "name": "stdout",
     "output_type": "stream",
     "text": [
      "[[[1 2]\n",
      "  [2 3]]\n",
      "\n",
      " [[3 4]\n",
      "  [5 6]]]\n"
     ]
    }
   ],
   "source": [
    "print(b)"
   ]
  },
  {
   "cell_type": "code",
   "execution_count": 145,
   "id": "7bca6978",
   "metadata": {},
   "outputs": [
    {
     "data": {
      "text/plain": [
       "array([[2, 3],\n",
       "       [5, 6]])"
      ]
     },
     "execution_count": 145,
     "metadata": {},
     "output_type": "execute_result"
    }
   ],
   "source": [
    "#cari element di array 3d\n",
    "b[:,1,:]"
   ]
  },
  {
   "cell_type": "code",
   "execution_count": 146,
   "id": "5ccaf167",
   "metadata": {},
   "outputs": [
    {
     "name": "stdout",
     "output_type": "stream",
     "text": [
      "[[[1 2]\n",
      "  [1 2]]\n",
      "\n",
      " [[3 4]\n",
      "  [3 4]]]\n"
     ]
    }
   ],
   "source": [
    "#ubah element di array 3d\n",
    "b[:,1,:] = [[1,2], [3,4]]\n",
    "\n",
    "print(b)"
   ]
  },
  {
   "cell_type": "markdown",
   "id": "986a9f48",
   "metadata": {},
   "source": [
    "### INITIALIZATION DIFFERENT TYPE OF ARRAYS"
   ]
  },
  {
   "cell_type": "code",
   "execution_count": 156,
   "id": "fdae884c",
   "metadata": {},
   "outputs": [
    {
     "data": {
      "text/plain": [
       "array([[[0., 0., 0.],\n",
       "        [0., 0., 0.],\n",
       "        [0., 0., 0.],\n",
       "        [0., 0., 0.]],\n",
       "\n",
       "       [[0., 0., 0.],\n",
       "        [0., 0., 0.],\n",
       "        [0., 0., 0.],\n",
       "        [0., 0., 0.]],\n",
       "\n",
       "       [[0., 0., 0.],\n",
       "        [0., 0., 0.],\n",
       "        [0., 0., 0.],\n",
       "        [0., 0., 0.]]])"
      ]
     },
     "execution_count": 156,
     "metadata": {},
     "output_type": "execute_result"
    }
   ],
   "source": [
    "#0 Matrix\n",
    "np.zeros((3,4,3))"
   ]
  },
  {
   "cell_type": "code",
   "execution_count": 162,
   "id": "21fa8cee",
   "metadata": {},
   "outputs": [
    {
     "data": {
      "text/plain": [
       "array([[[1, 1, 1, 1],\n",
       "        [1, 1, 1, 1],\n",
       "        [1, 1, 1, 1],\n",
       "        [1, 1, 1, 1]],\n",
       "\n",
       "       [[1, 1, 1, 1],\n",
       "        [1, 1, 1, 1],\n",
       "        [1, 1, 1, 1],\n",
       "        [1, 1, 1, 1]]])"
      ]
     },
     "execution_count": 162,
     "metadata": {},
     "output_type": "execute_result"
    }
   ],
   "source": [
    "#One Matrix\n",
    "np.ones((2,4,4), dtype='int32')"
   ]
  },
  {
   "cell_type": "code",
   "execution_count": 161,
   "id": "d2a43c8a",
   "metadata": {},
   "outputs": [
    {
     "data": {
      "text/plain": [
       "array([[27., 27., 27.],\n",
       "       [27., 27., 27.],\n",
       "       [27., 27., 27.]])"
      ]
     },
     "execution_count": 161,
     "metadata": {},
     "output_type": "execute_result"
    }
   ],
   "source": [
    "#Full Matrix\n",
    "np.full((3,3), 27, dtype='float64')"
   ]
  },
  {
   "cell_type": "code",
   "execution_count": 166,
   "id": "19a4a1c3",
   "metadata": {},
   "outputs": [
    {
     "data": {
      "text/plain": [
       "array([[27, 27, 27, 27, 27],\n",
       "       [27, 27, 27, 27, 27]])"
      ]
     },
     "execution_count": 166,
     "metadata": {},
     "output_type": "execute_result"
    }
   ],
   "source": [
    "#Full Like (menyerupai bentuk array lain)\n",
    "np.full_like(a, 27)"
   ]
  },
  {
   "cell_type": "code",
   "execution_count": 167,
   "id": "d19db7d5",
   "metadata": {},
   "outputs": [
    {
     "data": {
      "text/plain": [
       "array([[0.52567008, 0.63850528, 0.14539103, 0.55394209],\n",
       "       [0.14744518, 0.45895377, 0.93171161, 0.0872883 ],\n",
       "       [0.64996933, 0.01697478, 0.39703932, 0.27198689]])"
      ]
     },
     "execution_count": 167,
     "metadata": {},
     "output_type": "execute_result"
    }
   ],
   "source": [
    "#Array angka random\n",
    "np.random.rand(3,4)"
   ]
  },
  {
   "cell_type": "code",
   "execution_count": 168,
   "id": "2440d05f",
   "metadata": {},
   "outputs": [
    {
     "data": {
      "text/plain": [
       "array([[0.42501432, 0.0679576 , 0.64866614, 0.22902012, 0.86426386],\n",
       "       [0.02949673, 0.99254447, 0.26726828, 0.97244883, 0.43247835]])"
      ]
     },
     "execution_count": 168,
     "metadata": {},
     "output_type": "execute_result"
    }
   ],
   "source": [
    "#random sesuai bentuk array lain\n",
    "np.random.random_sample(a.shape)"
   ]
  },
  {
   "cell_type": "code",
   "execution_count": 173,
   "id": "ea846107",
   "metadata": {},
   "outputs": [
    {
     "data": {
      "text/plain": [
       "array([[11,  7, 10,  9],\n",
       "       [ 9,  9,  7,  9],\n",
       "       [ 9, 10, 10, 11]])"
      ]
     },
     "execution_count": 173,
     "metadata": {},
     "output_type": "execute_result"
    }
   ],
   "source": [
    "#angka random integer\n",
    "np.random.randint(7,12, size=(3,4))"
   ]
  },
  {
   "cell_type": "code",
   "execution_count": 174,
   "id": "fe1a17bd",
   "metadata": {},
   "outputs": [
    {
     "data": {
      "text/plain": [
       "array([[ 7,  8,  8,  9,  9],\n",
       "       [ 7, 10, 10, 11,  7]])"
      ]
     },
     "execution_count": 174,
     "metadata": {},
     "output_type": "execute_result"
    }
   ],
   "source": [
    "np.random.randint(7,12, size=(a.shape))"
   ]
  },
  {
   "cell_type": "code",
   "execution_count": 177,
   "id": "8c8f731f",
   "metadata": {},
   "outputs": [
    {
     "data": {
      "text/plain": [
       "array([[1., 0., 0.],\n",
       "       [0., 1., 0.],\n",
       "       [0., 0., 1.]])"
      ]
     },
     "execution_count": 177,
     "metadata": {},
     "output_type": "execute_result"
    }
   ],
   "source": [
    "#matrix identity\n",
    "np.identity(3)"
   ]
  },
  {
   "cell_type": "code",
   "execution_count": 184,
   "id": "a436949b",
   "metadata": {},
   "outputs": [
    {
     "name": "stdout",
     "output_type": "stream",
     "text": [
      "[[1 2 3]\n",
      " [1 2 3]\n",
      " [1 2 3]\n",
      " [2 3 4]\n",
      " [2 3 4]\n",
      " [2 3 4]]\n"
     ]
    }
   ],
   "source": [
    "arr = np.array([[1,2,3],[2,3,4]])\n",
    "r = np.repeat(arr, 3, axis = 0)\n",
    "print(r)"
   ]
  },
  {
   "attachments": {
    "image.png": {
     "image/png": "[encoded data removed]"
    }
   },
   "cell_type": "markdown",
   "id": "c42b658b",
   "metadata": {},
   "source": [
    "SOAL : BUATLAH MATRIX SEPERTI DIBAWAH INI DENGAN MATERI DIATAS (NO MANUAL)\n",
    "\n",
    "![image.png](attachment:image.png)"
   ]
  },
  {
   "cell_type": "code",
   "execution_count": 206,
   "id": "1ba32637",
   "metadata": {},
   "outputs": [
    {
     "name": "stdout",
     "output_type": "stream",
     "text": [
      "[[1 1 1 1 1]\n",
      " [1 0 0 0 1]\n",
      " [1 0 9 0 1]\n",
      " [1 0 0 0 1]\n",
      " [1 1 1 1 1]]\n"
     ]
    }
   ],
   "source": [
    "#Cara 1\n",
    "r2 = np.ones((5,5), dtype='int32')\n",
    "\n",
    "r2[1:4,1:4] = 0\n",
    "\n",
    "r2[2,2] = 9\n",
    "\n",
    "print(r2)"
   ]
  },
  {
   "cell_type": "code",
   "execution_count": 207,
   "id": "9cf0fc52",
   "metadata": {},
   "outputs": [
    {
     "name": "stdout",
     "output_type": "stream",
     "text": [
      "[[1 1 1 1 1]\n",
      " [1 0 0 0 1]\n",
      " [1 0 9 0 1]\n",
      " [1 0 0 0 1]\n",
      " [1 1 1 1 1]]\n"
     ]
    }
   ],
   "source": [
    "#Cara 2\n",
    "r3 = np.ones((5,5), dtype='int32')\n",
    "\n",
    "z = np.zeros((3,3))\n",
    "z[1,1] = 9\n",
    "\n",
    "r3[1:4,1:4] = z\n",
    "\n",
    "print(r3)"
   ]
  },
  {
   "cell_type": "markdown",
   "id": "f662f3fa",
   "metadata": {},
   "source": [
    "#### HATI HATI SAAT MELAKUKAN COPY NUMPY!!!!"
   ]
  },
  {
   "cell_type": "code",
   "execution_count": 227,
   "id": "3a714172",
   "metadata": {},
   "outputs": [
    {
     "name": "stdout",
     "output_type": "stream",
     "text": [
      "[1 2 3 4 5]\n"
     ]
    }
   ],
   "source": [
    "i = np.array([1,2,3,4,5])\n",
    "j = i.copy()\n",
    "j[0] = 120\n",
    "\n",
    "print(i)"
   ]
  },
  {
   "cell_type": "markdown",
   "id": "3dd13f34",
   "metadata": {},
   "source": [
    "### OPERASI MATEMATIKA"
   ]
  },
  {
   "cell_type": "code",
   "execution_count": 228,
   "id": "bcf82e0f",
   "metadata": {},
   "outputs": [],
   "source": [
    "j = np.array([2,3,4,5,6])"
   ]
  },
  {
   "cell_type": "code",
   "execution_count": 229,
   "id": "1b1670e4",
   "metadata": {},
   "outputs": [
    {
     "data": {
      "text/plain": [
       "array([3, 4, 5, 6, 7])"
      ]
     },
     "execution_count": 229,
     "metadata": {},
     "output_type": "execute_result"
    }
   ],
   "source": [
    "j += 1\n",
    "\n",
    "j"
   ]
  },
  {
   "cell_type": "code",
   "execution_count": 230,
   "id": "6891a0be",
   "metadata": {},
   "outputs": [
    {
     "data": {
      "text/plain": [
       "array([2, 3, 4, 5, 6])"
      ]
     },
     "execution_count": 230,
     "metadata": {},
     "output_type": "execute_result"
    }
   ],
   "source": [
    "j - 1"
   ]
  },
  {
   "cell_type": "code",
   "execution_count": 231,
   "id": "dc1c5531",
   "metadata": {},
   "outputs": [
    {
     "data": {
      "text/plain": [
       "array([ 9, 12, 15, 18, 21])"
      ]
     },
     "execution_count": 231,
     "metadata": {},
     "output_type": "execute_result"
    }
   ],
   "source": [
    "j * 3"
   ]
  },
  {
   "cell_type": "code",
   "execution_count": 232,
   "id": "7440ad26",
   "metadata": {},
   "outputs": [
    {
     "data": {
      "text/plain": [
       "array([1.        , 1.33333333, 1.66666667, 2.        , 2.33333333])"
      ]
     },
     "execution_count": 232,
     "metadata": {},
     "output_type": "execute_result"
    }
   ],
   "source": [
    "j/3"
   ]
  },
  {
   "cell_type": "code",
   "execution_count": 233,
   "id": "6b401f8f",
   "metadata": {},
   "outputs": [
    {
     "data": {
      "text/plain": [
       "array([ 4,  6,  8, 10, 12])"
      ]
     },
     "execution_count": 233,
     "metadata": {},
     "output_type": "execute_result"
    }
   ],
   "source": [
    "j + i"
   ]
  },
  {
   "cell_type": "code",
   "execution_count": 234,
   "id": "61d6bbea",
   "metadata": {},
   "outputs": [
    {
     "data": {
      "text/plain": [
       "array([ 3,  8, 15, 24, 35])"
      ]
     },
     "execution_count": 234,
     "metadata": {},
     "output_type": "execute_result"
    }
   ],
   "source": [
    "j * i"
   ]
  },
  {
   "cell_type": "code",
   "execution_count": 236,
   "id": "fb96dcc1",
   "metadata": {},
   "outputs": [
    {
     "data": {
      "text/plain": [
       "array([ 9, 16, 25, 36, 49])"
      ]
     },
     "execution_count": 236,
     "metadata": {},
     "output_type": "execute_result"
    }
   ],
   "source": [
    "j**2"
   ]
  },
  {
   "cell_type": "code",
   "execution_count": 235,
   "id": "3c1c6fe9",
   "metadata": {
    "scrolled": true
   },
   "outputs": [
    {
     "data": {
      "text/plain": [
       "array([-0.9899925 , -0.65364362,  0.28366219,  0.96017029,  0.75390225])"
      ]
     },
     "execution_count": 235,
     "metadata": {},
     "output_type": "execute_result"
    }
   ],
   "source": [
    "np.cos(j)"
   ]
  },
  {
   "cell_type": "markdown",
   "id": "25557f42",
   "metadata": {},
   "source": [
    "Lebih lengkap : https://numpy.org/doc/stable/reference/routines.math.html"
   ]
  },
  {
   "cell_type": "markdown",
   "id": "36597a8e",
   "metadata": {},
   "source": [
    "### ALJABAR LINEAR"
   ]
  },
  {
   "cell_type": "code",
   "execution_count": 240,
   "id": "3f72c2e2",
   "metadata": {},
   "outputs": [
    {
     "name": "stdout",
     "output_type": "stream",
     "text": [
      "[[1. 1. 1.]\n",
      " [1. 1. 1.]]\n",
      "[[2 2]\n",
      " [2 2]\n",
      " [2 2]]\n"
     ]
    },
    {
     "data": {
      "text/plain": [
       "array([[6., 6.],\n",
       "       [6., 6.]])"
      ]
     },
     "execution_count": 240,
     "metadata": {},
     "output_type": "execute_result"
    }
   ],
   "source": [
    "#Dot Product\n",
    "a = np.ones((2,3))\n",
    "print(a)\n",
    "\n",
    "b = np.full((3,2), 2)\n",
    "print(b)\n",
    "\n",
    "np.matmul(a,b)"
   ]
  },
  {
   "cell_type": "code",
   "execution_count": 242,
   "id": "cc6fc8f5",
   "metadata": {},
   "outputs": [
    {
     "data": {
      "text/plain": [
       "1.0"
      ]
     },
     "execution_count": 242,
     "metadata": {},
     "output_type": "execute_result"
    }
   ],
   "source": [
    "|#Cari determinant\n",
    "c = np.identity(7)\n",
    "\n",
    "np.linalg.det(c)"
   ]
  },
  {
   "cell_type": "markdown",
   "id": "3e75e070",
   "metadata": {},
   "source": [
    "Lebih lengkap: https://numpy.org/doc/stable/reference/routines.linalg.html"
   ]
  },
  {
   "cell_type": "markdown",
   "id": "cf2c9d50",
   "metadata": {},
   "source": [
    "### STATISTIC"
   ]
  },
  {
   "cell_type": "code",
   "execution_count": 250,
   "id": "15b1511f",
   "metadata": {},
   "outputs": [
    {
     "name": "stdout",
     "output_type": "stream",
     "text": [
      "[[4 4 6 6 4]\n",
      " [4 4 3 3 4]\n",
      " [5 6 6 5 3]]\n"
     ]
    }
   ],
   "source": [
    "stat = np.random.randint(3,7,(3,5))\n",
    "print(stat)"
   ]
  },
  {
   "cell_type": "code",
   "execution_count": 252,
   "id": "359159c2",
   "metadata": {},
   "outputs": [
    {
     "data": {
      "text/plain": [
       "array([4, 3, 3])"
      ]
     },
     "execution_count": 252,
     "metadata": {},
     "output_type": "execute_result"
    }
   ],
   "source": [
    "np.min(stat, axis=1)"
   ]
  },
  {
   "cell_type": "code",
   "execution_count": 255,
   "id": "6f9f2e2d",
   "metadata": {},
   "outputs": [
    {
     "data": {
      "text/plain": [
       "array([6, 4, 6])"
      ]
     },
     "execution_count": 255,
     "metadata": {},
     "output_type": "execute_result"
    }
   ],
   "source": [
    "np.max(stat, axis=1)"
   ]
  },
  {
   "cell_type": "code",
   "execution_count": 260,
   "id": "a6771673",
   "metadata": {},
   "outputs": [
    {
     "data": {
      "text/plain": [
       "array([13, 14, 15, 14, 11])"
      ]
     },
     "execution_count": 260,
     "metadata": {},
     "output_type": "execute_result"
    }
   ],
   "source": [
    "np.sum(stat, axis=0)"
   ]
  },
  {
   "cell_type": "markdown",
   "id": "6d879afb",
   "metadata": {},
   "source": [
    "REORGANIZING ARRAY"
   ]
  },
  {
   "cell_type": "code",
   "execution_count": 271,
   "id": "0bc9a4ec",
   "metadata": {},
   "outputs": [
    {
     "name": "stdout",
     "output_type": "stream",
     "text": [
      "[[9 9 9 9 8]\n",
      " [7 7 7 9 8]\n",
      " [9 8 7 8 9]]\n",
      "(3, 5)\n",
      "[[9 9 9 9 8 7 7 7 9 8 9 8 7 8 9]]\n"
     ]
    }
   ],
   "source": [
    "bef = np.random.randint(7,10,(3,5))\n",
    "\n",
    "print(bef)\n",
    "print(bef.shape)\n",
    "\n",
    "af = bef.reshape((1,15))\n",
    "print(af)"
   ]
  },
  {
   "cell_type": "code",
   "execution_count": 275,
   "id": "fa13f047",
   "metadata": {},
   "outputs": [
    {
     "data": {
      "text/plain": [
       "array([[1, 2, 3, 4, 5],\n",
       "       [2, 3, 4, 5, 6],\n",
       "       [2, 3, 4, 5, 6],\n",
       "       [1, 2, 3, 4, 5]])"
      ]
     },
     "execution_count": 275,
     "metadata": {},
     "output_type": "execute_result"
    }
   ],
   "source": [
    "v1 = np.array([1,2,3,4,5])\n",
    "v2 = np.array([2,3,4,5,6])\n",
    "\n",
    "v3 = np.vstack([v1,v2,v2,v1])\n",
    "v3"
   ]
  },
  {
   "cell_type": "code",
   "execution_count": 284,
   "id": "4744d0b5",
   "metadata": {},
   "outputs": [
    {
     "data": {
      "text/plain": [
       "array([[1., 1., 1., 0., 0.],\n",
       "       [1., 1., 1., 0., 0.],\n",
       "       [1., 1., 1., 0., 0.]])"
      ]
     },
     "execution_count": 284,
     "metadata": {},
     "output_type": "execute_result"
    }
   ],
   "source": [
    "h1 = np.ones((3,3))\n",
    "h2 = np.zeros((3,2))\n",
    "\n",
    "h3 = np.hstack((h1,h2))\n",
    "h3"
   ]
  },
  {
   "cell_type": "markdown",
   "id": "467b28c3",
   "metadata": {},
   "source": [
    "### LOAD DATA"
   ]
  },
  {
   "cell_type": "code",
   "execution_count": 289,
   "id": "13b8ac5d",
   "metadata": {},
   "outputs": [
    {
     "name": "stdout",
     "output_type": "stream",
     "text": [
      "[[  1  13  21  11 196  75   4   3  34   6   7   8   0   1   2   3   4   5]\n",
      " [  3  42  12  33 766  75   4  55   6   4   3   4   5   6   7   0  11  12]\n",
      " [  1  22  33  11 999  11   2   1  78   0   1   2   9   8   7   1  76  88]]\n"
     ]
    }
   ],
   "source": [
    "data = np.genfromtxt('data.txt', delimiter = ',')\n",
    "filedata = data.astype('int32')\n",
    "\n",
    "print(filedata)"
   ]
  },
  {
   "cell_type": "markdown",
   "id": "6776019a",
   "metadata": {},
   "source": [
    "### Boolean Masking and Advanced Indexing"
   ]
  },
  {
   "cell_type": "code",
   "execution_count": 298,
   "id": "a005029d",
   "metadata": {},
   "outputs": [
    {
     "data": {
      "text/plain": [
       "array([[False,  True,  True,  True,  True,  True,  True, False,  True,\n",
       "         True,  True,  True, False, False, False, False,  True,  True],\n",
       "       [False,  True,  True,  True,  True,  True,  True,  True,  True,\n",
       "         True, False,  True,  True,  True,  True, False,  True,  True],\n",
       "       [False,  True,  True,  True,  True,  True, False, False,  True,\n",
       "        False, False, False,  True,  True,  True, False,  True,  True]])"
      ]
     },
     "execution_count": 298,
     "metadata": {},
     "output_type": "execute_result"
    }
   ],
   "source": [
    "filedata > 3"
   ]
  },
  {
   "cell_type": "code",
   "execution_count": 297,
   "id": "3de4fce0",
   "metadata": {},
   "outputs": [
    {
     "data": {
      "text/plain": [
       "array([196,  75,  34,  42,  33, 766,  75,  55,  33, 999,  78,  76,  88])"
      ]
     },
     "execution_count": 297,
     "metadata": {},
     "output_type": "execute_result"
    }
   ],
   "source": [
    "filedata[filedata > 30]"
   ]
  },
  {
   "cell_type": "code",
   "execution_count": 309,
   "id": "fc346c21",
   "metadata": {},
   "outputs": [
    {
     "data": {
      "text/plain": [
       "array([[ True,  True,  True,  True,  True, False,  True,  True,  True,\n",
       "         True,  True,  True,  True,  True,  True,  True,  True,  True],\n",
       "       [ True,  True,  True,  True,  True, False,  True, False,  True,\n",
       "         True,  True,  True,  True,  True,  True,  True,  True,  True],\n",
       "       [ True,  True,  True,  True,  True,  True,  True,  True, False,\n",
       "         True,  True,  True,  True,  True,  True,  True, False, False]])"
      ]
     },
     "execution_count": 309,
     "metadata": {},
     "output_type": "execute_result"
    }
   ],
   "source": [
    "(~((filedata>50) & (filedata<100)))"
   ]
  },
  {
   "cell_type": "code",
   "execution_count": 304,
   "id": "c925d8cc",
   "metadata": {
    "scrolled": true
   },
   "outputs": [
    {
     "data": {
      "text/plain": [
       "array([False,  True,  True,  True,  True,  True, False,  True,  True,\n",
       "       False, False, False, False, False, False, False,  True,  True])"
      ]
     },
     "execution_count": 304,
     "metadata": {},
     "output_type": "execute_result"
    }
   ],
   "source": [
    "#Cek apakah ada nilai yang lebih dari 30 pada tiap kolom\n",
    "np.any(filedata > 30, axis = 0)"
   ]
  },
  {
   "cell_type": "code",
   "execution_count": 305,
   "id": "e8a8a31e",
   "metadata": {
    "scrolled": true
   },
   "outputs": [
    {
     "data": {
      "text/plain": [
       "array([False, False, False, False,  True, False, False, False, False,\n",
       "       False, False, False, False, False, False, False, False, False])"
      ]
     },
     "execution_count": 305,
     "metadata": {},
     "output_type": "execute_result"
    }
   ],
   "source": [
    "#Cek apakah semua nilai pada suatu kolom lebih dari 30\n",
    "np.all(filedata > 30, axis = 0)"
   ]
  },
  {
   "cell_type": "code",
   "execution_count": 301,
   "id": "3df76a19",
   "metadata": {},
   "outputs": [
    {
     "data": {
      "text/plain": [
       "array([17, 18, 14, 12, 18, 19, 17, 12, 12])"
      ]
     },
     "execution_count": 301,
     "metadata": {},
     "output_type": "execute_result"
    }
   ],
   "source": [
    "#Avanced Indexing pada list array\n",
    "\n",
    "a = np.random.randint(1,20,(3,5))\n",
    "\n",
    "a[a > 10]"
   ]
  },
  {
   "cell_type": "code",
   "execution_count": 302,
   "id": "fddc58f9",
   "metadata": {},
   "outputs": [
    {
     "data": {
      "text/plain": [
       "array([[False,  True, False,  True,  True],\n",
       "       [ True,  True,  True, False, False],\n",
       "       [ True,  True, False, False,  True]])"
      ]
     },
     "execution_count": 302,
     "metadata": {},
     "output_type": "execute_result"
    }
   ],
   "source": [
    "a > 10"
   ]
  },
  {
   "attachments": {
    "image.png": {
     "image/png": "[encoded data removed]"
    }
   },
   "cell_type": "markdown",
   "id": "9af365d0",
   "metadata": {},
   "source": [
    "### Latihan\n",
    "\n",
    "![image.png](attachment:image.png)"
   ]
  },
  {
   "cell_type": "code",
   "execution_count": 310,
   "id": "2bd6581f",
   "metadata": {},
   "outputs": [
    {
     "data": {
      "text/plain": [
       "array([[ 1,  2,  3,  4,  5],\n",
       "       [ 6,  7,  8,  9, 10],\n",
       "       [11, 12, 13, 14, 15],\n",
       "       [16, 17, 18, 19, 20],\n",
       "       [21, 22, 23, 24, 25]])"
      ]
     },
     "execution_count": 310,
     "metadata": {},
     "output_type": "execute_result"
    }
   ],
   "source": [
    "a = np.array([[1,2,3,4,5],[6,7,8,9,10],[11,12,13,14,15],[16,17,18,19,20],[21,22,23,24,25]])\n",
    "a"
   ]
  },
  {
   "cell_type": "code",
   "execution_count": 311,
   "id": "7d6cedb9",
   "metadata": {},
   "outputs": [
    {
     "data": {
      "text/plain": [
       "array([[11, 12],\n",
       "       [16, 17]])"
      ]
     },
     "execution_count": 311,
     "metadata": {},
     "output_type": "execute_result"
    }
   ],
   "source": [
    "a[2:4,0:2]"
   ]
  },
  {
   "cell_type": "code",
   "execution_count": 314,
   "id": "6f5548be",
   "metadata": {},
   "outputs": [
    {
     "data": {
      "text/plain": [
       "array([ 2,  8, 14, 20])"
      ]
     },
     "execution_count": 314,
     "metadata": {},
     "output_type": "execute_result"
    }
   ],
   "source": [
    "a[[0,1,2,3],[1,2,3,4]]"
   ]
  },
  {
   "cell_type": "code",
   "execution_count": 335,
   "id": "6eb69285",
   "metadata": {},
   "outputs": [
    {
     "data": {
      "text/plain": [
       "array([[ 4,  5],\n",
       "       [19, 20],\n",
       "       [24, 25]])"
      ]
     },
     "execution_count": 335,
     "metadata": {},
     "output_type": "execute_result"
    }
   ],
   "source": [
    "a[[0,-2,-1],3:]"
   ]
  },
  {
   "cell_type": "code",
   "execution_count": null,
   "id": "f4589cdc",
   "metadata": {},
   "outputs": [],
   "source": []
  }
 ],
 "metadata": {
  "kernelspec": {
   "display_name": "Python 3 (ipykernel)",
   "language": "python",
   "name": "python3"
  },
  "language_info": {
   "codemirror_mode": {
    "name": "ipython",
    "version": 3
   },
   "file_extension": ".py",
   "mimetype": "text/x-python",
   "name": "python",
   "nbconvert_exporter": "python",
   "pygments_lexer": "ipython3",
   "version": "3.10.9"
  }
 },
 "nbformat": 4,
 "nbformat_minor": 5
}
